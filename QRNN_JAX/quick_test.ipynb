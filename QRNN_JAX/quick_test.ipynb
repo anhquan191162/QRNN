{
 "cells": [
  {
   "cell_type": "code",
   "execution_count": 1,
   "metadata": {},
   "outputs": [],
   "source": [
    "import numpy as np \n",
    "import matplotlib.pyplot as plt\n",
    "import keras\n",
    "import torch\n",
    "import jax"
   ]
  },
  {
   "cell_type": "code",
   "execution_count": 30,
   "metadata": {},
   "outputs": [],
   "source": [
    "import jax.numpy as jnp\n",
    "from sklearn.decomposition import PCA"
   ]
  },
  {
   "cell_type": "code",
   "execution_count": 32,
   "metadata": {},
   "outputs": [
    {
     "name": "stdout",
     "output_type": "stream",
     "text": [
      "(60000, 28, 28)\n",
      "(60000,)\n",
      "(10000, 28, 28)\n",
      "(10000,)\n",
      "(12665, 28, 28)\n",
      "(12665,)\n",
      "(2115, 28, 28)\n",
      "(2115,)\n",
      "(12665, 16)\n",
      "(2115, 16)\n"
     ]
    }
   ],
   "source": [
    "(X_train, y_train), (X_test, y_test) = keras.datasets.mnist.load_data()\n",
    "print(X_train.shape)\n",
    "print(y_train.shape)\n",
    "print(X_test.shape)\n",
    "print(y_test.shape)\n",
    "X_train, y_train = X_train[(y_train == 0) | (y_train == 1)], y_train[(y_train == 0) | (y_train == 1)]\n",
    "X_test, y_test = X_test[(y_test == 0) | (y_test == 1)], y_test[(y_test == 0) | (y_test == 1)]\n",
    "print(X_train.shape)\n",
    "print(y_train.shape)\n",
    "print(X_test.shape)\n",
    "print(y_test.shape)\n",
    "\n",
    "\n",
    "pca = PCA(n_components=16)\n",
    "pca = pca.fit(X_train.reshape(-1, 28*28))\n",
    "X_train_pca = pca.transform(X_train.reshape(-1, 28*28))\n",
    "X_test_pca = pca.transform(X_test.reshape(-1, 28*28))\n",
    "print(X_train_pca.shape)\n",
    "print(X_test_pca.shape)\n",
    "\n",
    "\n",
    "\n"
   ]
  },
  {
   "cell_type": "code",
   "execution_count": 23,
   "metadata": {},
   "outputs": [
    {
     "name": "stdout",
     "output_type": "stream",
     "text": [
      "(80, 16)\n",
      "(2115, 16)\n",
      "(80, 1)\n",
      "(2115, 1)\n"
     ]
    }
   ],
   "source": [
    "def load_mnist(n_train = 15000):\n",
    "    def patchify_images(images, patch_size=7):\n",
    "        H, W = images.shape[1:]  # assume (N, 28, 28)\n",
    "        patch_rows = H // patch_size\n",
    "        patch_cols = W // patch_size\n",
    "        sequences = []\n",
    "\n",
    "        for img in images:\n",
    "            seq = []\n",
    "            for i in range(0, H, patch_size): # 0 to 28, 7 steps\n",
    "                for j in range(0, W, patch_size): # 0 to 28, 7 steps\n",
    "                    patch = img[i:i+patch_size, j:j+patch_size]\n",
    "                    seq.append(np.mean(patch))  # or max, std, etc.\n",
    "            sequences.append(seq)\n",
    "\n",
    "        return np.array(sequences)\n",
    "\n",
    "    def normalize_sequence(seq, min_val=0.0, max_val=255.0):\n",
    "        return (seq - min_val) / (max_val - min_val) * np.pi\n",
    "    \n",
    "    (X_train, y_train), (X_test, y_test) = keras.datasets.mnist.load_data()\n",
    "    X_train, y_train = X_train[(y_train == 0) | (y_train == 1)], y_train[(y_train == 0) | (y_train == 1)]\n",
    "    X_test, y_test = X_test[(y_test == 0) | (y_test == 1)], y_test[(y_test == 0) | (y_test == 1)]\n",
    "    train_indices = np.random.choice(len(X_train), size=n_train, replace=False)\n",
    "    X_train_sampled = X_train[train_indices]\n",
    "    y_train_sampled = y_train[train_indices]\n",
    "\n",
    "    # Randomly sample 100 indices from testing set\n",
    "    test_indices = np.random.choice(len(X_test), size=100, replace=False)\n",
    "    X_test_sampled = X_test[test_indices]\n",
    "    y_test_sampled = y_test[test_indices]\n",
    "    X_train_seq = jnp.array(normalize_sequence(patchify_images(X_train_sampled)), dtype=jnp.float32)\n",
    "    X_test_seq = jnp.array(normalize_sequence(patchify_images(X_test_sampled)), dtype=jnp.float32)\n",
    "    y_train_bin = jnp.array(y_train_sampled.reshape(-1, 1), dtype=jnp.float32)\n",
    "    y_test_bin = jnp.array(y_test_sampled.reshape(-1, 1), dtype=jnp.float32)\n",
    "    return (\n",
    "        X_train_seq,\n",
    "        y_train_bin,\n",
    "        X_test_seq,\n",
    "        y_test_bin\n",
    "    )\n",
    "\n",
    "\n",
    "\n",
    "\n",
    "X_train_seq, y_train_bin, X_test_seq, y_test_bin = load_mnist(80)\n",
    "print(X_train_seq.shape)\n",
    "print(X_test_seq.shape)\n",
    "print(y_train_bin.shape)\n",
    "print(y_test_bin.shape)\n",
    "\n",
    "\n",
    "\n"
   ]
  },
  {
   "cell_type": "code",
   "execution_count": 24,
   "metadata": {},
   "outputs": [],
   "source": [
    "from sklearn.datasets import load_digits\n",
    "from sklearn.model_selection import train_test_split\n",
    "n_train, n_test = 80, 100\n",
    "digits = load_digits()\n",
    "X, y = digits.data, digits.target\n",
    "mask = (y == 0) | (y == 1)\n",
    "X, y = X[np.where((y == 0) | (y == 1))], y[np.where((y == 0) | (y == 1))]\n",
    "X_train, X_test, y_train, y_test = train_test_split(X, y, test_size=0.2, random_state=2025)\n",
    "X_train, y_train = X_train[:n_train], y_train[:n_train]\n",
    "X_test, y_test = X_test[:n_test], y_test[:n_test]"
   ]
  },
  {
   "cell_type": "code",
   "execution_count": 26,
   "metadata": {},
   "outputs": [
    {
     "name": "stdout",
     "output_type": "stream",
     "text": [
      "[CpuDevice(id=0)]\n"
     ]
    }
   ],
   "source": [
    "print(jax.devices())"
   ]
  },
  {
   "cell_type": "code",
   "execution_count": null,
   "metadata": {},
   "outputs": [
    {
     "name": "stdout",
     "output_type": "stream",
     "text": [
      "(100, 16)\n",
      "(150, 16)\n",
      "(100, 1)\n",
      "(150, 1)\n",
      "[1.4535058  1.4176005  1.2892096  0.74873996 1.4132792  1.3925828\n",
      " 1.8925732  1.6374066  1.6438335  2.0711334  1.8453851  2.0083055\n",
      " 1.2324556  0.9225628  1.0374277  1.2239964 ]\n",
      "[1.2327421  0.76124674 0.9099139  1.1127236  1.2969828  1.3933271\n",
      " 1.2670116  0.9271903  1.6197511  1.666985   1.0040563  1.6477369\n",
      " 0.93780416 0.57085615 1.342579   1.7252606 ]\n",
      "[1.]\n",
      "[1.]\n"
     ]
    }
   ],
   "source": [
    "def load_cifar2(n_train = 100, n_test = 150, patch_size = 8, reduce_fn = np.mean):\n",
    "    def rgb2gray(images):\n",
    "    # Uses ITU-R BT.601 luma transform\n",
    "        return 0.2989 * images[..., 0] + 0.5870 * images[..., 1] + 0.1140 * images[..., 2]\n",
    "    def patchify_images(images):\n",
    "        H, W = images.shape[1:]\n",
    "        sequences = []\n",
    "        for img in images:\n",
    "            seq = [\n",
    "                reduce_fn(img[i:i+patch_size, j:j+patch_size])\n",
    "                for i in range(0, H, patch_size)\n",
    "                for j in range(0, W, patch_size)\n",
    "            ]\n",
    "            sequences.append(seq)\n",
    "        return np.array(sequences)\n",
    "\n",
    "    def normalize_sequence(seq, min_val=0.0, max_val=255.0):\n",
    "        return (seq - min_val) / (max_val - min_val) * np.pi\n",
    "    (x_train, y_train), (x_test, y_test) = keras.datasets.cifar10.load_data()\n",
    "\n",
    "    y_train = y_train.squeeze() # (N, 1) -> (N,)\n",
    "    y_test = y_test.squeeze() # (N, 1) -> (N,)\n",
    "\n",
    "    train_mask = (y_train == 0) | (y_train == 1)\n",
    "    test_mask = (y_test == 0) | (y_test == 1)\n",
    "    np.random.seed(42)\n",
    "    train_indices = np.random.choice(len(x_train[train_mask]), size=n_train, replace=False)\n",
    "    test_indices = np.random.choice(len(x_test[test_mask]), size=n_test, replace=False)\n",
    "\n",
    "    x_train_filtered = x_train[train_mask][train_indices]\n",
    "    y_train_filtered = y_train[train_mask][train_indices]\n",
    "    x_test_filtered = x_test[test_mask][test_indices]\n",
    "    y_test_filtered = y_test[test_mask][test_indices]\n",
    "    \n",
    "\n",
    "    y_train_filtered = y_train_filtered.reshape(-1, 1)\n",
    "    y_test_filtered = y_test_filtered.reshape(-1, 1)\n",
    "\n",
    "    X_train_gray = rgb2gray(x_train_filtered)\n",
    "    X_test_gray = rgb2gray(x_test_filtered)\n",
    "    \n",
    "    X_train_seq = jnp.array(normalize_sequence(patchify_images(X_train_gray)), dtype=jnp.float32)\n",
    "    X_test_seq = jnp.array(normalize_sequence(patchify_images(X_test_gray)), dtype=jnp.float32)\n",
    "    y_train_bin = jnp.array(y_train_filtered, dtype=jnp.float32)\n",
    "    y_test_bin = jnp.array(y_test_filtered, dtype=jnp.float32)\n",
    "\n",
    "    return X_train_seq, y_train_bin, X_test_seq, y_test_bin\n",
    "\n",
    "X_train_seq, y_train_bin, X_test_seq, y_test_bin = load_cifar2()\n",
    "print(X_train_seq.shape)\n",
    "print(X_test_seq.shape)\n",
    "print(y_train_bin.shape)\n",
    "print(y_test_bin.shape)\n",
    "print(X_train_seq[0])\n",
    "print(X_test_seq[0])\n",
    "print(y_train_bin[0])\n",
    "print(y_test_bin[0])\n",
    "\n"
   ]
  },
  {
   "cell_type": "code",
   "execution_count": 76,
   "metadata": {},
   "outputs": [],
   "source": [
    "(x_train, y_train), (x_test, y_test) = keras.datasets.cifar10.load_data()\n",
    "\n",
    "y_train = y_train.squeeze()\n",
    "y_test = y_test.squeeze()\n",
    "\n",
    "# Boolean masks\n",
    "train_mask = (y_train == 0) | (y_train == 1)\n",
    "test_mask = (y_test == 0) | (y_test == 1)\n",
    "np.random.seed(2025)\n",
    "n_train = 100\n",
    "n_test = 100\n",
    "train_indices = np.random.choice(len(x_train[train_mask]), size=n_train, replace=False)\n",
    "test_indices = np.random.choice(len(x_test[test_mask]), size=n_test, replace=False)\n",
    "# Apply boolean indexing\n",
    "x_train_filtered = x_train[train_mask][train_indices]\n",
    "y_train_filtered = y_train[train_mask][train_indices]\n",
    "x_test_filtered = x_test[test_mask][test_indices]\n",
    "y_test_filtered = y_test[test_mask][test_indices]\n",
    "\n",
    "# Optional: reshape y back to (N, 1)\n",
    "y_train_filtered = y_train_filtered.reshape(-1, 1)\n",
    "y_test_filtered = y_test_filtered.reshape(-1, 1)"
   ]
  },
  {
   "cell_type": "code",
   "execution_count": 77,
   "metadata": {},
   "outputs": [
    {
     "data": {
      "text/plain": [
       "(100, 32, 32, 3)"
      ]
     },
     "execution_count": 77,
     "metadata": {},
     "output_type": "execute_result"
    }
   ],
   "source": [
    "x_train_filtered.shape"
   ]
  },
  {
   "cell_type": "code",
   "execution_count": 81,
   "metadata": {},
   "outputs": [
    {
     "data": {
      "text/plain": [
       "(100, 1)"
      ]
     },
     "execution_count": 81,
     "metadata": {},
     "output_type": "execute_result"
    }
   ],
   "source": [
    "y_train_filtered.shape"
   ]
  },
  {
   "cell_type": "code",
   "execution_count": 66,
   "metadata": {},
   "outputs": [
    {
     "data": {
      "image/png": "[encoded data removed]",
      "text/plain": [
       "<Figure size 640x480 with 1 Axes>"
      ]
     },
     "metadata": {},
     "output_type": "display_data"
    },
    {
     "name": "stdout",
     "output_type": "stream",
     "text": [
      "The label is:  [1]\n"
     ]
    }
   ],
   "source": [
    "plt.imshow(x_train_filtered[1])\n",
    "plt.show()\n",
    "print('The label is: ', y_train_filtered[1])"
   ]
  },
  {
   "cell_type": "code",
   "execution_count": 42,
   "metadata": {},
   "outputs": [],
   "source": [
    "import cv2\n",
    "import pandas as pd"
   ]
  },
  {
   "cell_type": "code",
   "execution_count": 60,
   "metadata": {},
   "outputs": [
    {
     "name": "stdout",
     "output_type": "stream",
     "text": [
      "(50000, 32, 32, 3)\n",
      "(50000, 1)\n",
      "(10000, 32, 32, 3)\n",
      "(10000, 1)\n"
     ]
    }
   ],
   "source": [
    "print(x_train.shape)\n",
    "print(y_train.shape)\n",
    "print(x_test.shape)\n",
    "print(y_test.shape)\n",
    "\n"
   ]
  }
 ],
 "metadata": {
  "kernelspec": {
   "display_name": "research",
   "language": "python",
   "name": "python3"
  },
  "language_info": {
   "codemirror_mode": {
    "name": "ipython",
    "version": 3
   },
   "file_extension": ".py",
   "mimetype": "text/x-python",
   "name": "python",
   "nbconvert_exporter": "python",
   "pygments_lexer": "ipython3",
   "version": "3.12.9"
  }
 },
 "nbformat": 4,
 "nbformat_minor": 2
}
