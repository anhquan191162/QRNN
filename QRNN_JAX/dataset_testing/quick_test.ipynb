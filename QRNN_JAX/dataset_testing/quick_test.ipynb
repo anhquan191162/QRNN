{
 "cells": [
  {
   "cell_type": "code",
   "execution_count": null,
   "metadata": {},
   "outputs": [
    {
     "name": "stderr",
     "output_type": "stream",
     "text": [
      "WARNING:absl:Compiled the loaded model, but the compiled metrics have yet to be built. `model.compile_metrics` will be empty until you train or evaluate the model.\n"
     ]
    },
    {
     "ename": "ValueError",
     "evalue": "Argument `cell` should have a `call` method. Received: cell=64",
     "output_type": "error",
     "traceback": [
      "\u001b[31m---------------------------------------------------------------------------\u001b[39m",
      "\u001b[31mValueError\u001b[39m                                Traceback (most recent call last)",
      "\u001b[36mCell\u001b[39m\u001b[36m \u001b[39m\u001b[32mIn[3]\u001b[39m\u001b[32m, line 83\u001b[39m\n\u001b[32m     80\u001b[39m     \u001b[38;5;28;01mreturn\u001b[39;00m history\n\u001b[32m     82\u001b[39m \u001b[38;5;28;01mif\u001b[39;00m \u001b[34m__name__\u001b[39m == \u001b[33m'\u001b[39m\u001b[33m__main__\u001b[39m\u001b[33m'\u001b[39m:\n\u001b[32m---> \u001b[39m\u001b[32m83\u001b[39m     history = \u001b[43mtrain_rnn\u001b[49m\u001b[43m(\u001b[49m\u001b[43mn_train\u001b[49m\u001b[43m=\u001b[49m\u001b[32;43m1000\u001b[39;49m\u001b[43m,\u001b[49m\u001b[43m \u001b[49m\u001b[43mn_test\u001b[49m\u001b[43m=\u001b[49m\u001b[32;43m200\u001b[39;49m\u001b[43m,\u001b[49m\u001b[43m \u001b[49m\u001b[43mn_epochs\u001b[49m\u001b[43m=\u001b[49m\u001b[32;43m100\u001b[39;49m\u001b[43m,\u001b[49m\u001b[43m \u001b[49m\u001b[43mseq_len\u001b[49m\u001b[43m=\u001b[49m\u001b[32;43m4\u001b[39;49m\u001b[43m,\u001b[49m\u001b[43m \u001b[49m\u001b[43mbatch_size\u001b[49m\u001b[43m=\u001b[49m\u001b[32;43m16\u001b[39;49m\u001b[43m)\u001b[49m\n\u001b[32m     84\u001b[39m     \u001b[38;5;28mprint\u001b[39m(\u001b[33m'\u001b[39m\u001b[33mMax Test Acc:\u001b[39m\u001b[33m'\u001b[39m, \u001b[38;5;28mmax\u001b[39m(history.history[\u001b[33m'\u001b[39m\u001b[33mval_accuracy\u001b[39m\u001b[33m'\u001b[39m]))\n",
      "\u001b[36mCell\u001b[39m\u001b[36m \u001b[39m\u001b[32mIn[3]\u001b[39m\u001b[32m, line 48\u001b[39m, in \u001b[36mtrain_rnn\u001b[39m\u001b[34m(n_train, n_test, n_epochs, seq_len, batch_size)\u001b[39m\n\u001b[32m     45\u001b[39m x_test = np.expand_dims(x_test, axis=-\u001b[32m1\u001b[39m)\n\u001b[32m     47\u001b[39m \u001b[38;5;66;03m# Build and train RNN\u001b[39;00m\n\u001b[32m---> \u001b[39m\u001b[32m48\u001b[39m model = \u001b[43mbuild_rnn_model\u001b[49m\u001b[43m(\u001b[49m\u001b[43mseq_len\u001b[49m\u001b[43m=\u001b[49m\u001b[43mseq_len\u001b[49m\u001b[43m,\u001b[49m\u001b[43m \u001b[49m\u001b[43mn_classes\u001b[49m\u001b[43m=\u001b[49m\u001b[43my_train\u001b[49m\u001b[43m.\u001b[49m\u001b[43mshape\u001b[49m\u001b[43m[\u001b[49m\u001b[32;43m1\u001b[39;49m\u001b[43m]\u001b[49m\u001b[43m)\u001b[49m\n\u001b[32m     49\u001b[39m history = model.fit(x_train, y_train, epochs=n_epochs, batch_size=batch_size,\n\u001b[32m     50\u001b[39m                    validation_data=(x_test, y_test), verbose=\u001b[32m1\u001b[39m)\n\u001b[32m     52\u001b[39m \u001b[38;5;66;03m# Plot training history\u001b[39;00m\n",
      "\u001b[36mCell\u001b[39m\u001b[36m \u001b[39m\u001b[32mIn[3]\u001b[39m\u001b[32m, line 21\u001b[39m, in \u001b[36mbuild_rnn_model\u001b[39m\u001b[34m(seq_len, n_classes)\u001b[39m\n\u001b[32m     12\u001b[39m \u001b[38;5;250m\u001b[39m\u001b[33;03m\"\"\"\u001b[39;00m\n\u001b[32m     13\u001b[39m \u001b[33;03mBuilds a simple LSTM-based RNN for classification.\u001b[39;00m\n\u001b[32m     14\u001b[39m \u001b[33;03mArgs:\u001b[39;00m\n\u001b[32m   (...)\u001b[39m\u001b[32m     18\u001b[39m \u001b[33;03m    Keras model\u001b[39;00m\n\u001b[32m     19\u001b[39m \u001b[33;03m\"\"\"\u001b[39;00m\n\u001b[32m     20\u001b[39m inputs = layers.Input(shape=(seq_len, \u001b[32m1\u001b[39m))  \u001b[38;5;66;03m# Reshape features as (seq_len, 1)\u001b[39;00m\n\u001b[32m---> \u001b[39m\u001b[32m21\u001b[39m x = \u001b[43mlayers\u001b[49m\u001b[43m.\u001b[49m\u001b[43mRNN\u001b[49m\u001b[43m(\u001b[49m\u001b[32;43m64\u001b[39;49m\u001b[43m,\u001b[49m\u001b[43m \u001b[49m\u001b[43mreturn_sequences\u001b[49m\u001b[43m=\u001b[49m\u001b[38;5;28;43;01mFalse\u001b[39;49;00m\u001b[43m)\u001b[49m(inputs)\n\u001b[32m     22\u001b[39m x = layers.Dense(\u001b[32m32\u001b[39m, activation=\u001b[33m'\u001b[39m\u001b[33mrelu\u001b[39m\u001b[33m'\u001b[39m)(x)\n\u001b[32m     23\u001b[39m outputs = layers.Dense(n_classes, activation=\u001b[33m'\u001b[39m\u001b[33msoftmax\u001b[39m\u001b[33m'\u001b[39m)(x)\n",
      "\u001b[36mFile \u001b[39m\u001b[32m~\\AppData\\Roaming\\Python\\Python312\\site-packages\\keras\\src\\layers\\rnn\\rnn.py:189\u001b[39m, in \u001b[36mRNN.__init__\u001b[39m\u001b[34m(self, cell, return_sequences, return_state, go_backwards, stateful, unroll, zero_output_for_mask, **kwargs)\u001b[39m\n\u001b[32m    187\u001b[39m     cell = StackedRNNCells(cell)\n\u001b[32m    188\u001b[39m \u001b[38;5;28;01mif\u001b[39;00m \u001b[33m\"\u001b[39m\u001b[33mcall\u001b[39m\u001b[33m\"\u001b[39m \u001b[38;5;129;01mnot\u001b[39;00m \u001b[38;5;129;01min\u001b[39;00m \u001b[38;5;28mdir\u001b[39m(cell):\n\u001b[32m--> \u001b[39m\u001b[32m189\u001b[39m     \u001b[38;5;28;01mraise\u001b[39;00m \u001b[38;5;167;01mValueError\u001b[39;00m(\n\u001b[32m    190\u001b[39m         \u001b[33m\"\u001b[39m\u001b[33mArgument `cell` should have a `call` method. \u001b[39m\u001b[33m\"\u001b[39m\n\u001b[32m    191\u001b[39m         \u001b[33mf\u001b[39m\u001b[33m\"\u001b[39m\u001b[33mReceived: cell=\u001b[39m\u001b[38;5;132;01m{\u001b[39;00mcell\u001b[38;5;132;01m}\u001b[39;00m\u001b[33m\"\u001b[39m\n\u001b[32m    192\u001b[39m     )\n\u001b[32m    193\u001b[39m \u001b[38;5;28;01mif\u001b[39;00m \u001b[33m\"\u001b[39m\u001b[33mstate_size\u001b[39m\u001b[33m\"\u001b[39m \u001b[38;5;129;01mnot\u001b[39;00m \u001b[38;5;129;01min\u001b[39;00m \u001b[38;5;28mdir\u001b[39m(cell):\n\u001b[32m    194\u001b[39m     \u001b[38;5;28;01mraise\u001b[39;00m \u001b[38;5;167;01mValueError\u001b[39;00m(\n\u001b[32m    195\u001b[39m         \u001b[33m\"\u001b[39m\u001b[33mThe RNN cell should have a `state_size` attribute \u001b[39m\u001b[33m\"\u001b[39m\n\u001b[32m    196\u001b[39m         \u001b[33m\"\u001b[39m\u001b[33m(single integer or list of integers, \u001b[39m\u001b[33m\"\u001b[39m\n\u001b[32m    197\u001b[39m         \u001b[33m\"\u001b[39m\u001b[33mone integer per RNN state). \u001b[39m\u001b[33m\"\u001b[39m\n\u001b[32m    198\u001b[39m         \u001b[33mf\u001b[39m\u001b[33m\"\u001b[39m\u001b[33mReceived: cell=\u001b[39m\u001b[38;5;132;01m{\u001b[39;00mcell\u001b[38;5;132;01m}\u001b[39;00m\u001b[33m\"\u001b[39m\n\u001b[32m    199\u001b[39m     )\n",
      "\u001b[31mValueError\u001b[39m: Argument `cell` should have a `call` method. Received: cell=64"
     ]
    }
   ],
   "source": [
    "import numpy as np\n",
    "import tensorflow as tf\n",
    "from tensorflow.keras import layers, models\n",
    "import matplotlib.pyplot as plt\n",
    "from dataloader_multiclass import load_mnist\n",
    "\n",
    "# Suppress TensorFlow warnings\n",
    "import os\n",
    "os.environ['TF_CPP_MIN_LOG_LEVEL'] = '2'\n",
    "\n",
    "def build_rnn_model(seq_len=4, n_classes=10):\n",
    "    \"\"\"\n",
    "    Builds a simple LSTM-based RNN for classification.\n",
    "    Args:\n",
    "        seq_len: Number of features from CNN (sequence length)\n",
    "        n_classes: Number of output classes (10 for MNIST)\n",
    "    Returns:\n",
    "        Keras model\n",
    "    \"\"\"\n",
    "    inputs = layers.Input(shape=(seq_len, 1))  # Reshape features as (seq_len, 1)\n",
    "    x = layers.LSTM(64, return_sequences=False)(inputs)\n",
    "    x = layers.Dense(32, activation='relu')(x)\n",
    "    outputs = layers.Dense(n_classes, activation='softmax')(x)\n",
    "    model = models.Model(inputs=inputs, outputs=outputs)\n",
    "    model.compile(optimizer='adam', loss='categorical_crossentropy', metrics=['accuracy'])\n",
    "    return model\n",
    "\n",
    "def train_rnn(n_train, n_test, n_epochs=100, seq_len=4, batch_size=16):\n",
    "    \"\"\"\n",
    "    Trains an RNN on CNN-extracted MNIST features.\n",
    "    Args:\n",
    "        n_train: Number of training samples\n",
    "        n_test: Number of test samples\n",
    "        n_epochs: Number of training epochs\n",
    "        seq_len: Sequence length (CNN feature dimension)\n",
    "        batch_size: Batch size for training\n",
    "    Returns:\n",
    "        history: Training history (loss, accuracy)\n",
    "    \"\"\"\n",
    "    # Load data from dataloader_multiclass.py\n",
    "    x_train, y_train, x_test, y_test = load_mnist(n_train, n_test, seq_len, train_cnn_epochs=None, force_retrain=False)\n",
    "    \n",
    "    # Reshape for RNN: (n_samples, seq_len, 1)\n",
    "    x_train = np.expand_dims(x_train, axis=-1)\n",
    "    x_test = np.expand_dims(x_test, axis=-1)\n",
    "\n",
    "    # Build and train RNN\n",
    "    model = build_rnn_model(seq_len=seq_len, n_classes=y_train.shape[1])\n",
    "    history = model.fit(x_train, y_train, epochs=n_epochs, batch_size=batch_size,\n",
    "                       validation_data=(x_test, y_test), verbose=1)\n",
    "\n",
    "    # Plot training history\n",
    "    epochs = list(range(1, n_epochs + 1))\n",
    "    plt.figure(figsize=(10, 5))\n",
    "    \n",
    "    # Plot loss\n",
    "    plt.subplot(1, 2, 1)\n",
    "    plt.plot(epochs, history.history['loss'], label='Train Loss')\n",
    "    plt.plot(epochs, history.history['val_loss'], label='Test Loss')\n",
    "    plt.xlabel('Epoch')\n",
    "    plt.ylabel('Loss')\n",
    "    plt.title('Loss vs. Epochs')\n",
    "    plt.legend()\n",
    "    plt.grid(True)\n",
    "    \n",
    "    # Plot accuracy\n",
    "    plt.subplot(1, 2, 2)\n",
    "    plt.plot(epochs, history.history['accuracy'], label='Train Accuracy')\n",
    "    plt.plot(epochs, history.history['val_accuracy'], label='Test Accuracy')\n",
    "    plt.xlabel('Epoch')\n",
    "    plt.ylabel('Accuracy')\n",
    "    plt.title('Accuracy vs. Epochs')\n",
    "    plt.legend()\n",
    "    plt.grid(True)\n",
    "    \n",
    "    plt.tight_layout()\n",
    "    plt.savefig('rnn_classical_plot.png')\n",
    "    plt.close()\n",
    "\n",
    "    return history\n",
    "\n",
    "if __name__ == '__main__':\n",
    "    history = train_rnn(n_train=1000, n_test=200, n_epochs=100, seq_len=4, batch_size=16)\n",
    "    print('Max Test Acc:', max(history.history['val_accuracy']))"
   ]
  },
  {
   "cell_type": "code",
   "execution_count": 1,
   "metadata": {},
   "outputs": [],
   "source": [
    "import numpy as np \n",
    "import matplotlib.pyplot as plt\n",
    "import keras\n",
    "import torch\n",
    "import jax"
   ]
  },
  {
   "cell_type": "code",
   "execution_count": 2,
   "metadata": {},
   "outputs": [],
   "source": [
    "import jax.numpy as jnp\n",
    "from sklearn.decomposition import PCA"
   ]
  },
  {
   "cell_type": "code",
   "execution_count": 3,
   "metadata": {},
   "outputs": [
    {
     "name": "stdout",
     "output_type": "stream",
     "text": [
      "(60000, 28, 28)\n",
      "(60000,)\n",
      "(10000, 28, 28)\n",
      "(10000,)\n",
      "(12665, 28, 28)\n",
      "(12665,)\n",
      "(2115, 28, 28)\n",
      "(2115,)\n",
      "(12665, 16)\n",
      "(2115, 16)\n"
     ]
    }
   ],
   "source": [
    "(X_train, y_train), (X_test, y_test) = keras.datasets.mnist.load_data()\n",
    "print(X_train.shape)\n",
    "print(y_train.shape)\n",
    "print(X_test.shape)\n",
    "print(y_test.shape)\n",
    "X_train, y_train = X_train[(y_train == 0) | (y_train == 1)], y_train[(y_train == 0) | (y_train == 1)]\n",
    "X_test, y_test = X_test[(y_test == 0) | (y_test == 1)], y_test[(y_test == 0) | (y_test == 1)]\n",
    "print(X_train.shape)\n",
    "print(y_train.shape)\n",
    "print(X_test.shape)\n",
    "print(y_test.shape)\n",
    "\n",
    "\n",
    "pca = PCA(n_components=16)\n",
    "pca = pca.fit(X_train.reshape(-1, 28*28))\n",
    "X_train_pca = pca.transform(X_train.reshape(-1, 28*28))\n",
    "X_test_pca = pca.transform(X_test.reshape(-1, 28*28))\n",
    "print(X_train_pca.shape)\n",
    "print(X_test_pca.shape)\n",
    "\n",
    "\n",
    "\n"
   ]
  },
  {
   "cell_type": "code",
   "execution_count": 17,
   "metadata": {},
   "outputs": [],
   "source": [
    "from jax.nn import one_hot"
   ]
  },
  {
   "cell_type": "code",
   "execution_count": 20,
   "metadata": {},
   "outputs": [
    {
     "name": "stdout",
     "output_type": "stream",
     "text": [
      "(80, 16)\n",
      "(100, 16)\n",
      "(80, 10)\n",
      "(100, 10)\n",
      "[0.02690279 0.89080936 0.08347409 0.         0.         1.2020772\n",
      " 1.8839499  0.03394278 0.         0.50009024 0.4807303  0.7014841\n",
      " 0.         0.8794951  0.7195869  0.17373674]\n",
      "[0.         0.0125714  0.907655   0.         0.         1.1336888\n",
      " 0.51341593 0.         0.01407997 1.7087046  1.8583043  0.22452518\n",
      " 0.01684568 0.42466187 0.46111894 0.        ]\n",
      "[0. 0. 0. 1. 0. 0. 0. 0. 0. 0.]\n",
      "[0. 0. 0. 0. 0. 0. 1. 0. 0. 0.]\n"
     ]
    }
   ],
   "source": [
    "def load_mnist(n_train = 15000, type = 'multiclass'):\n",
    "    def patchify_images(images, patch_size=7):\n",
    "        H, W = images.shape[1:]  # assume (N, 28, 28)\n",
    "        patch_rows = H // patch_size\n",
    "        patch_cols = W // patch_size\n",
    "        sequences = []\n",
    "\n",
    "        for img in images:\n",
    "            seq = []\n",
    "            for i in range(0, H, patch_size): # 0 to 28, 7 steps\n",
    "                for j in range(0, W, patch_size): # 0 to 28, 7 steps\n",
    "                    patch = img[i:i+patch_size, j:j+patch_size]\n",
    "                    seq.append(np.mean(patch))  # or max, std, etc.\n",
    "            sequences.append(seq)\n",
    "\n",
    "        return np.array(sequences)\n",
    "\n",
    "    def normalize_sequence(seq, min_val=0.0, max_val=255.0):\n",
    "        return (seq - min_val) / (max_val - min_val) * np.pi\n",
    "    \n",
    "    (X_train, y_train), (X_test, y_test) = keras.datasets.mnist.load_data()\n",
    "    if type == 'binary':\n",
    "        X_train, y_train = X_train[(y_train == 0) | (y_train == 1)], y_train[(y_train == 0) | (y_train == 1)]\n",
    "        X_test, y_test = X_test[(y_test == 0) | (y_test == 1)], y_test[(y_test == 0) | (y_test == 1)]\n",
    "        num_classes = 2 \n",
    "    elif type == 'multiclass':\n",
    "        X_train, y_train = X_train, y_train\n",
    "        X_test, y_test = X_test, y_test\n",
    "        num_classes = 10\n",
    "    else:\n",
    "        raise ValueError(\"Invalid type\")\n",
    "\n",
    "    train_indices = np.random.choice(len(X_train), size=n_train, replace=False)\n",
    "    X_train_sampled = X_train[train_indices]\n",
    "    y_train_sampled = y_train[train_indices]\n",
    "\n",
    "    # Randomly sample 100 indices from testing set\n",
    "    test_indices = np.random.choice(len(X_test), size=100, replace=False)\n",
    "    X_test_sampled = X_test[test_indices]\n",
    "    y_test_sampled = y_test[test_indices]\n",
    "    X_train_seq = jnp.array(normalize_sequence(patchify_images(X_train_sampled)), dtype=jnp.float32)\n",
    "    X_test_seq = jnp.array(normalize_sequence(patchify_images(X_test_sampled)), dtype=jnp.float32)\n",
    "    y_train_bin = jnp.array(y_train_sampled.reshape(-1, 1), dtype=jnp.float32)\n",
    "    y_test_bin = jnp.array(y_test_sampled.reshape(-1, 1), dtype=jnp.float32)\n",
    "    y_train_bin = one_hot(y_train_bin.astype(int).flatten(), num_classes=num_classes)\n",
    "    y_test_bin = one_hot(y_test_bin.astype(int).flatten(), num_classes=num_classes)\n",
    "    return (\n",
    "        X_train_seq,\n",
    "        y_train_bin,\n",
    "        X_test_seq,\n",
    "        y_test_bin\n",
    "    )\n",
    "\n",
    "\n",
    "\n",
    "\n",
    "X_train_seq, y_train_bin, X_test_seq, y_test_bin = load_mnist(80)\n",
    "print(X_train_seq.shape)\n",
    "print(X_test_seq.shape)\n",
    "print(y_train_bin.shape)\n",
    "print(y_test_bin.shape)\n",
    "print(X_train_seq[0])\n",
    "print(X_test_seq[0])\n",
    "print(y_train_bin[0])\n",
    "print(y_test_bin[0])\n",
    "\n",
    "\n"
   ]
  },
  {
   "cell_type": "code",
   "execution_count": 5,
   "metadata": {},
   "outputs": [],
   "source": [
    "from sklearn.datasets import load_digits\n",
    "from sklearn.model_selection import train_test_split\n",
    "n_train, n_test = 80, 100\n",
    "digits = load_digits()\n",
    "X, y = digits.data, digits.target\n",
    "mask = (y == 0) | (y == 1)\n",
    "X, y = X[np.where((y == 0) | (y == 1))], y[np.where((y == 0) | (y == 1))]\n",
    "X_train, X_test, y_train, y_test = train_test_split(X, y, test_size=0.2, random_state=2025)\n",
    "X_train, y_train = X_train[:n_train], y_train[:n_train]\n",
    "X_test, y_test = X_test[:n_test], y_test[:n_test]"
   ]
  },
  {
   "cell_type": "code",
   "execution_count": 6,
   "metadata": {},
   "outputs": [
    {
     "name": "stdout",
     "output_type": "stream",
     "text": [
      "[CpuDevice(id=0)]\n"
     ]
    }
   ],
   "source": [
    "print(jax.devices())"
   ]
  },
  {
   "cell_type": "code",
   "execution_count": 7,
   "metadata": {},
   "outputs": [
    {
     "name": "stdout",
     "output_type": "stream",
     "text": [
      "(100, 16)\n",
      "(150, 16)\n",
      "(100, 1)\n",
      "(150, 1)\n",
      "[1.4535058  1.4176005  1.2892096  0.74873996 1.4132792  1.3925828\n",
      " 1.8925732  1.6374066  1.6438335  2.0711334  1.8453851  2.0083055\n",
      " 1.2324556  0.9225628  1.0374277  1.2239964 ]\n",
      "[1.2327421  0.76124674 0.9099139  1.1127236  1.2969828  1.3933271\n",
      " 1.2670116  0.9271903  1.6197511  1.666985   1.0040563  1.6477369\n",
      " 0.93780416 0.57085615 1.342579   1.7252606 ]\n",
      "[1.]\n",
      "[1.]\n"
     ]
    }
   ],
   "source": [
    "def load_cifar2(n_train = 100, n_test = 150, patch_size = 8, reduce_fn = np.mean):\n",
    "    def rgb2gray(images):\n",
    "    # Uses ITU-R BT.601 luma transform\n",
    "        return 0.2989 * images[..., 0] + 0.5870 * images[..., 1] + 0.1140 * images[..., 2]\n",
    "    def patchify_images(images):\n",
    "        H, W = images.shape[1:]\n",
    "        sequences = []\n",
    "        for img in images:\n",
    "            seq = [\n",
    "                reduce_fn(img[i:i+patch_size, j:j+patch_size])\n",
    "                for i in range(0, H, patch_size)\n",
    "                for j in range(0, W, patch_size)\n",
    "            ]\n",
    "            sequences.append(seq)\n",
    "        return np.array(sequences)\n",
    "\n",
    "    def normalize_sequence(seq, min_val=0.0, max_val=255.0):\n",
    "        return (seq - min_val) / (max_val - min_val) * np.pi\n",
    "    (x_train, y_train), (x_test, y_test) = keras.datasets.cifar10.load_data()\n",
    "\n",
    "    y_train = y_train.squeeze() # (N, 1) -> (N,)\n",
    "    y_test = y_test.squeeze() # (N, 1) -> (N,)\n",
    "\n",
    "    train_mask = (y_train == 0) | (y_train == 1)\n",
    "    test_mask = (y_test == 0) | (y_test == 1)\n",
    "    np.random.seed(42)\n",
    "    train_indices = np.random.choice(len(x_train[train_mask]), size=n_train, replace=False)\n",
    "    test_indices = np.random.choice(len(x_test[test_mask]), size=n_test, replace=False)\n",
    "\n",
    "    x_train_filtered = x_train[train_mask][train_indices]\n",
    "    y_train_filtered = y_train[train_mask][train_indices]\n",
    "    x_test_filtered = x_test[test_mask][test_indices]\n",
    "    y_test_filtered = y_test[test_mask][test_indices]\n",
    "    \n",
    "\n",
    "    y_train_filtered = y_train_filtered.reshape(-1, 1)\n",
    "    y_test_filtered = y_test_filtered.reshape(-1, 1)\n",
    "\n",
    "    X_train_gray = rgb2gray(x_train_filtered)\n",
    "    X_test_gray = rgb2gray(x_test_filtered)\n",
    "    \n",
    "    X_train_seq = jnp.array(normalize_sequence(patchify_images(X_train_gray)), dtype=jnp.float32)\n",
    "    X_test_seq = jnp.array(normalize_sequence(patchify_images(X_test_gray)), dtype=jnp.float32)\n",
    "    y_train_bin = jnp.array(y_train_filtered, dtype=jnp.float32)\n",
    "    y_test_bin = jnp.array(y_test_filtered, dtype=jnp.float32)\n",
    "\n",
    "    return X_train_seq, y_train_bin, X_test_seq, y_test_bin\n",
    "\n",
    "X_train_seq, y_train_bin, X_test_seq, y_test_bin = load_cifar2()\n",
    "print(X_train_seq.shape)\n",
    "print(X_test_seq.shape)\n",
    "print(y_train_bin.shape)\n",
    "print(y_test_bin.shape)\n",
    "print(X_train_seq[0])\n",
    "print(X_test_seq[0])\n",
    "print(y_train_bin[0])\n",
    "print(y_test_bin[0])\n",
    "\n"
   ]
  },
  {
   "cell_type": "code",
   "execution_count": 8,
   "metadata": {},
   "outputs": [],
   "source": [
    "(x_train, y_train), (x_test, y_test) = keras.datasets.cifar10.load_data()\n",
    "\n",
    "y_train = y_train.squeeze()\n",
    "y_test = y_test.squeeze()\n",
    "\n",
    "# Boolean masks\n",
    "train_mask = (y_train == 0) | (y_train == 1)\n",
    "test_mask = (y_test == 0) | (y_test == 1)\n",
    "np.random.seed(2025)\n",
    "n_train = 100\n",
    "n_test = 100\n",
    "train_indices = np.random.choice(len(x_train[train_mask]), size=n_train, replace=False)\n",
    "test_indices = np.random.choice(len(x_test[test_mask]), size=n_test, replace=False)\n",
    "# Apply boolean indexing\n",
    "x_train_filtered = x_train[train_mask][train_indices]\n",
    "y_train_filtered = y_train[train_mask][train_indices]\n",
    "x_test_filtered = x_test[test_mask][test_indices]\n",
    "y_test_filtered = y_test[test_mask][test_indices]\n",
    "\n",
    "# Optional: reshape y back to (N, 1)\n",
    "y_train_filtered = y_train_filtered.reshape(-1, 1)\n",
    "y_test_filtered = y_test_filtered.reshape(-1, 1)"
   ]
  },
  {
   "cell_type": "code",
   "execution_count": 9,
   "metadata": {},
   "outputs": [
    {
     "data": {
      "text/plain": [
       "(100, 32, 32, 3)"
      ]
     },
     "execution_count": 9,
     "metadata": {},
     "output_type": "execute_result"
    }
   ],
   "source": [
    "x_train_filtered.shape"
   ]
  },
  {
   "cell_type": "code",
   "execution_count": 10,
   "metadata": {},
   "outputs": [
    {
     "data": {
      "text/plain": [
       "(100, 1)"
      ]
     },
     "execution_count": 10,
     "metadata": {},
     "output_type": "execute_result"
    }
   ],
   "source": [
    "y_train_filtered.shape"
   ]
  },
  {
   "cell_type": "code",
   "execution_count": 11,
   "metadata": {},
   "outputs": [
    {
     "data": {
      "image/png": "[encoded data removed]",
      "text/plain": [
       "<Figure size 640x480 with 1 Axes>"
      ]
     },
     "metadata": {},
     "output_type": "display_data"
    },
    {
     "name": "stdout",
     "output_type": "stream",
     "text": [
      "The label is:  [1]\n"
     ]
    }
   ],
   "source": [
    "plt.imshow(x_train_filtered[1])\n",
    "plt.show()\n",
    "print('The label is: ', y_train_filtered[1])"
   ]
  },
  {
   "cell_type": "code",
   "execution_count": 12,
   "metadata": {},
   "outputs": [],
   "source": [
    "import cv2\n",
    "import pandas as pd"
   ]
  },
  {
   "cell_type": "code",
   "execution_count": 1,
   "metadata": {},
   "outputs": [
    {
     "ename": "NameError",
     "evalue": "name 'x_train' is not defined",
     "output_type": "error",
     "traceback": [
      "\u001b[31m---------------------------------------------------------------------------\u001b[39m",
      "\u001b[31mNameError\u001b[39m                                 Traceback (most recent call last)",
      "\u001b[36mCell\u001b[39m\u001b[36m \u001b[39m\u001b[32mIn[1]\u001b[39m\u001b[32m, line 1\u001b[39m\n\u001b[32m----> \u001b[39m\u001b[32m1\u001b[39m \u001b[38;5;28mprint\u001b[39m(\u001b[43mx_train\u001b[49m.shape)\n\u001b[32m      2\u001b[39m \u001b[38;5;28mprint\u001b[39m(y_train.shape)\n\u001b[32m      3\u001b[39m \u001b[38;5;28mprint\u001b[39m(x_test.shape)\n",
      "\u001b[31mNameError\u001b[39m: name 'x_train' is not defined"
     ]
    }
   ],
   "source": [
    "print(x_train.shape)\n",
    "print(y_train.shape)\n",
    "print(x_test.shape)\n",
    "print(y_test.shape)\n",
    "\n"
   ]
  }
 ],
 "metadata": {
  "kernelspec": {
   "display_name": "research",
   "language": "python",
   "name": "python3"
  },
  "language_info": {
   "codemirror_mode": {
    "name": "ipython",
    "version": 3
   },
   "file_extension": ".py",
   "mimetype": "text/x-python",
   "name": "python",
   "nbconvert_exporter": "python",
   "pygments_lexer": "ipython3",
   "version": "3.12.9"
  }
 },
 "nbformat": 4,
 "nbformat_minor": 2
}
